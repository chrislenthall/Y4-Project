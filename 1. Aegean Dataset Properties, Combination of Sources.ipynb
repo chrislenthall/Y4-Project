{
 "cells": [
  {
   "cell_type": "markdown",
   "id": "d4b876b6",
   "metadata": {},
   "source": [
    "## Importing the .vot tables to examine their properties, and to examine the possibility of removing \"over-counting\""
   ]
  },
  {
   "cell_type": "code",
   "execution_count": 1,
   "id": "29312c2b",
   "metadata": {},
   "outputs": [],
   "source": [
    "import numpy as np\n",
    "from scipy import stats\n",
    "from scipy import optimize\n",
    "from astropy.table import Table\n",
    "import matplotlib.pyplot as plt"
   ]
  },
  {
   "cell_type": "code",
   "execution_count": 2,
   "id": "1cdff311",
   "metadata": {
    "scrolled": false
   },
   "outputs": [
    {
     "name": "stdout",
     "output_type": "stream",
     "text": [
      "['island', 'source', 'background', 'local_rms', 'lon_str', 'lat_str', 'lon', 'err_lon', 'lat', 'err_lat', 'peak_flux', 'err_peak_flux', 'int_flux', 'err_int_flux', 'a', 'err_a', 'b', 'err_b', 'pa', 'err_pa', 'flags', 'residual_mean', 'residual_std', 'uuid', 'psf_a', 'psf_b', 'psf_pa']\n",
      "island source   background     local_rms   ...  psf_a   psf_b  psf_pa\n",
      "------ ------ -------------- ------------- ... ------- ------- ------\n",
      "     1      0 -0.00038238958  9.391315e-05 ... 7.99992 7.99992    8.0\n",
      "     2      0 -3.4013727e-05 8.2682396e-05 ... 7.99992 7.99992    8.0\n",
      "     3      0  0.00012984972 0.00011368903 ... 7.99992 7.99992    8.0\n",
      "     3      1  3.5077854e-05  9.156917e-05 ... 7.99992 7.99992    8.0\n",
      "     5      0  9.1852875e-05 0.00013887978 ... 7.99992 7.99992    8.0\n",
      "     6      0  0.00017014833 0.00012365321 ... 7.99992 7.99992    8.0\n",
      "     7      0  -0.0009232825 0.00010227811 ... 7.99992 7.99992    8.0\n",
      "     8      0  0.00017107005 0.00011957841 ... 7.99992 7.99992    8.0\n",
      "     9      0 -3.5001558e-05  7.432467e-05 ... 7.99992 7.99992    8.0\n",
      "    10      0  -0.0006618347  0.0001219761 ... 7.99992 7.99992    8.0\n",
      "   ...    ...            ...           ... ...     ...     ...    ...\n",
      "  4355      0   0.0001653752 4.4181066e-05 ... 7.99992 7.99992    8.0\n",
      "  4357      0  -6.159939e-05 0.00021688904 ... 7.99992 7.99992    8.0\n",
      "  4358      0  0.00021407598  7.561929e-05 ... 7.99992 7.99992    8.0\n",
      "  4359      0  3.5549172e-05  5.771784e-05 ... 7.99992 7.99992    8.0\n",
      "  4360      0  2.5112926e-05 5.6487897e-05 ... 7.99992 7.99992    8.0\n",
      "  4361      0  0.00022928209 6.6166824e-05 ... 7.99992 7.99992    8.0\n",
      "  4362      0 -0.00023176166 4.6760433e-05 ... 7.99992 7.99992    8.0\n",
      "  4363      0  0.00020098599 4.4205957e-05 ... 7.99992 7.99992    8.0\n",
      "  4364      0 0.000114376664 5.6376262e-05 ... 7.99992 7.99992    8.0\n",
      "  4365      0   7.993797e-05 5.6664416e-05 ... 7.99992 7.99992    8.0\n",
      "  4366      0 -0.00022776566 4.6768717e-05 ... 7.99992 7.99992    8.0\n",
      "Length = 4635 rows\n"
     ]
    }
   ],
   "source": [
    "t = Table.read(r'C:\\Users\\clent\\Documents\\4th Year Project Code\\MeerKAT Catalogs\\G288.5-0.5IFx_Mosaic_Mom0_comp.vot')\n",
    "print(t.colnames)\n",
    "print(t)"
   ]
  },
  {
   "cell_type": "code",
   "execution_count": 3,
   "id": "0529d3a4",
   "metadata": {
    "scrolled": false
   },
   "outputs": [
    {
     "name": "stdout",
     "output_type": "stream",
     "text": [
      "island source   background     local_rms   ...  psf_b  psf_pa        area       \n",
      "------ ------ -------------- ------------- ... ------- ------ ------------------\n",
      "     1      0 -0.00038238958  9.391315e-05 ... 7.99992    8.0  333.6447235348482\n",
      "     2      0 -3.4013727e-05 8.2682396e-05 ... 7.99992    8.0  647.8929954760027\n",
      "     3      0  0.00012984972 0.00011368903 ... 7.99992    8.0  4385.978345967382\n",
      "     3      1  3.5077854e-05  9.156917e-05 ... 7.99992    8.0  261.7033229875795\n",
      "     5      0  9.1852875e-05 0.00013887978 ... 7.99992    8.0 346.93816017338395\n",
      "     6      0  0.00017014833 0.00012365321 ... 7.99992    8.0  657.4431822791287\n",
      "     7      0  -0.0009232825 0.00010227811 ... 7.99992    8.0  238.1358363466246\n",
      "     8      0  0.00017107005 0.00011957841 ... 7.99992    8.0 324.83330838198594\n",
      "     9      0 -3.5001558e-05  7.432467e-05 ... 7.99992    8.0  225.4237523829063\n",
      "    10      0  -0.0006618347  0.0001219761 ... 7.99992    8.0 323.23608247094495\n",
      "   ...    ...            ...           ... ...     ...    ...                ...\n",
      "  4355      0   0.0001653752 4.4181066e-05 ... 7.99992    8.0  273.8817269154356\n",
      "  4357      0  -6.159939e-05 0.00021688904 ... 7.99992    8.0 262.61783576852787\n",
      "  4358      0  0.00021407598  7.561929e-05 ... 7.99992    8.0 223.38487293099928\n",
      "  4359      0  3.5549172e-05  5.771784e-05 ... 7.99992    8.0 243.72540501059393\n",
      "  4360      0  2.5112926e-05 5.6487897e-05 ... 7.99992    8.0  210.7680378146788\n",
      "  4361      0  0.00022928209 6.6166824e-05 ... 7.99992    8.0  253.7737101054384\n",
      "  4362      0 -0.00023176166 4.6760433e-05 ... 7.99992    8.0 221.33788956072718\n",
      "  4363      0  0.00020098599 4.4205957e-05 ... 7.99992    8.0 295.25801937603194\n",
      "  4364      0 0.000114376664 5.6376262e-05 ... 7.99992    8.0  589.3398862336728\n",
      "  4365      0   7.993797e-05 5.6664416e-05 ... 7.99992    8.0  276.0712488765265\n",
      "  4366      0 -0.00022776566 4.6768717e-05 ... 7.99992    8.0 378.96806922604003\n",
      "Length = 4635 rows\n"
     ]
    }
   ],
   "source": [
    "# source area calculation (NOT ISLAND AREA)\n",
    "t['area'] = np.pi * t['a'] * t['b']\n",
    "#error propagation calc attempt\n",
    "err_area = np.sqrt((t['area']**2)*((t['err_a']/t['a'])**2)*((t['err_b']/t['b'])**2))  \n",
    "print(t)"
   ]
  },
  {
   "cell_type": "code",
   "execution_count": 4,
   "id": "6f54d9cf",
   "metadata": {},
   "outputs": [],
   "source": [
    "# print(t['psf_a'])\n",
    "# print(np.min(t['psf_a']/t['psf_b']))\n",
    "\n",
    "#all have psf_a and psf_b equal"
   ]
  },
  {
   "cell_type": "markdown",
   "id": "eb429251",
   "metadata": {},
   "source": [
    "All rows have equal psf_a and psf_b"
   ]
  },
  {
   "cell_type": "code",
   "execution_count": 5,
   "id": "4da5f0c6",
   "metadata": {},
   "outputs": [
    {
     "name": "stderr",
     "output_type": "stream",
     "text": [
      "C:\\Users\\clent\\Anaconda3\\envs\\tensorflow_env\\lib\\site-packages\\ipykernel_launcher.py:4: MatplotlibDeprecationWarning: The 'nonposy' parameter of __init__() has been renamed 'nonpositive' since Matplotlib 3.3; support for the old name will be dropped two minor releases later.\n",
      "  after removing the cwd from sys.path.\n"
     ]
    },
    {
     "name": "stdout",
     "output_type": "stream",
     "text": [
      "18122.938161375354 128.6604480158167\n"
     ]
    },
    {
     "data": {
      "image/png": "[encoded data removed]",
      "text/plain": [
       "<Figure size 1080x288 with 1 Axes>"
      ]
     },
     "metadata": {
      "needs_background": "light"
     },
     "output_type": "display_data"
    }
   ],
   "source": [
    "plt.figure(figsize=(15,4))\n",
    "plt.hist(t['area'], bins=500)\n",
    "plt.xlim(0,2500)\n",
    "plt.yscale('log', nonposy='clip')\n",
    "print(np.max(t['area']), np.min(t['area']))\n",
    "#define limit in area for point sources ~400ish?"
   ]
  },
  {
   "cell_type": "markdown",
   "id": "f4bb0c9e",
   "metadata": {},
   "source": [
    "This histogram of the areas of the sources (individual sources, not areas) may prompt a limit in source area to remove less interesting objects (at around $A=400$)"
   ]
  },
  {
   "cell_type": "code",
   "execution_count": 8,
   "id": "f58f5077",
   "metadata": {},
   "outputs": [
    {
     "name": "stdout",
     "output_type": "stream",
     "text": [
      "1.5627017604239928\n"
     ]
    },
    {
     "data": {
      "text/plain": [
       "(array([  7.,  19.,  22.,  22.,  22.,  19.,  25.,  29.,  20.,  15.,  18.,\n",
       "         16.,  14.,  21.,  21.,  13.,  17.,  18.,  18.,  13.,  21.,  17.,\n",
       "         20.,  14.,  16.,  22.,  19.,  22.,  29.,  26.,  30.,  35.,  42.,\n",
       "         41.,  35.,  47.,  44.,  41.,  46.,  51.,  64.,  66.,  69.,  70.,\n",
       "         79.,  88., 110.,  90., 121., 114., 129., 135., 114., 138., 147.,\n",
       "        132., 135., 151., 168., 170., 205., 202., 172., 144., 104.,  84.,\n",
       "         64.,  78.,  58.,  40.,  41.,  34.,  29.,  19.,  21.,  16.,  11.,\n",
       "          4.,   6.,   3.,   5.,   6.,   3.,   1.,   1.,   0.,   0.,   0.,\n",
       "          0.,   0.,   1.,   0.,   1.,   1.,   1.,   0.,   0.,   0.,   0.,\n",
       "          3.]),\n",
       " array([0.01109411, 0.02661019, 0.04212627, 0.05764234, 0.07315842,\n",
       "        0.08867449, 0.10419057, 0.11970665, 0.13522272, 0.1507388 ,\n",
       "        0.16625488, 0.18177095, 0.19728703, 0.21280311, 0.22831918,\n",
       "        0.24383526, 0.25935134, 0.27486741, 0.29038349, 0.30589957,\n",
       "        0.32141564, 0.33693172, 0.35244779, 0.36796387, 0.38347995,\n",
       "        0.39899602, 0.4145121 , 0.43002818, 0.44554425, 0.46106033,\n",
       "        0.47657641, 0.49209248, 0.50760856, 0.52312464, 0.53864071,\n",
       "        0.55415679, 0.56967287, 0.58518894, 0.60070502, 0.61622109,\n",
       "        0.63173717, 0.64725325, 0.66276932, 0.6782854 , 0.69380148,\n",
       "        0.70931755, 0.72483363, 0.74034971, 0.75586578, 0.77138186,\n",
       "        0.78689794, 0.80241401, 0.81793009, 0.83344617, 0.84896224,\n",
       "        0.86447832, 0.8799944 , 0.89551047, 0.91102655, 0.92654262,\n",
       "        0.9420587 , 0.95757478, 0.97309085, 0.98860693, 1.00412301,\n",
       "        1.01963908, 1.03515516, 1.05067124, 1.06618731, 1.08170339,\n",
       "        1.09721947, 1.11273554, 1.12825162, 1.1437677 , 1.15928377,\n",
       "        1.17479985, 1.19031592, 1.205832  , 1.22134808, 1.23686415,\n",
       "        1.25238023, 1.26789631, 1.28341238, 1.29892846, 1.31444454,\n",
       "        1.32996061, 1.34547669, 1.36099277, 1.37650884, 1.39202492,\n",
       "        1.407541  , 1.42305707, 1.43857315, 1.45408923, 1.4696053 ,\n",
       "        1.48512138, 1.50063745, 1.51615353, 1.53166961, 1.54718568,\n",
       "        1.56270176]),\n",
       " <BarContainer object of 100 artists>)"
      ]
     },
     "execution_count": 8,
     "metadata": {},
     "output_type": "execute_result"
    },
    {
     "data": {
      "image/png": "[encoded data removed]",
      "text/plain": [
       "<Figure size 1080x288 with 1 Axes>"
      ]
     },
     "metadata": {
      "needs_background": "light"
     },
     "output_type": "display_data"
    }
   ],
   "source": [
    "t['psf_area'] = np.pi * t['psf_a'] * t['psf_b']\n",
    "point_sourcey = t['psf_area']/t['area']\n",
    "print(np.max(point_sourcey))\n",
    "\n",
    "plt.figure(figsize=(15,4))\n",
    "plt.hist(point_sourcey, bins=100)"
   ]
  },
  {
   "cell_type": "code",
   "execution_count": 10,
   "id": "680bcca1",
   "metadata": {},
   "outputs": [
    {
     "name": "stdout",
     "output_type": "stream",
     "text": [
      "2004\n"
     ]
    }
   ],
   "source": [
    "#cut-off for area - trying to remove point sources\n",
    "area_mask = t['area'] > 250\n",
    "t_big_area = t[area_mask]\n",
    "print(len(t_big_area))"
   ]
  },
  {
   "cell_type": "code",
   "execution_count": 11,
   "id": "2231a6bc",
   "metadata": {},
   "outputs": [],
   "source": [
    "t_big_area.write(r'C:\\Users\\clent\\Documents\\4th Year Project Code\\MeerKAT Catalogs\\G288.5-0.5_BY_AREA.vot', overwrite=True, format='votable')"
   ]
  },
  {
   "cell_type": "markdown",
   "id": "5bd0eabf",
   "metadata": {},
   "source": [
    "This gives a source table with all of the sources with $A<250$pix removed. A more rigorous method may be required, since there are still over 2000 sources remaining, reduced from the inital 4635."
   ]
  },
  {
   "cell_type": "markdown",
   "id": "aacbb136",
   "metadata": {},
   "source": [
    "## Finding the island with the most sources"
   ]
  },
  {
   "cell_type": "code",
   "execution_count": 13,
   "id": "0536c50b",
   "metadata": {
    "scrolled": false
   },
   "outputs": [
    {
     "name": "stdout",
     "output_type": "stream",
     "text": [
      "ModeResult(mode=array([1041], dtype=int64), count=array([9]))\n",
      "island source   background   ... psf_pa        area             psf_area     \n",
      "------ ------ -------------- ... ------ ------------------ ------------------\n",
      "  1041      0   -0.000610985 ...    8.0  309.5684228333544 201.05790861125638\n",
      "  1041      1  -0.0003039742 ...    8.0    737.69349236462 201.05790861125638\n",
      "  1041      2   -0.000518332 ...    8.0 1438.6024440131996 201.05790861125638\n",
      "  1041      3 -0.00021567785 ...    8.0  1685.257044330107 201.05790861125638\n",
      "  1041      4 -0.00034981512 ...    8.0 3927.1416356939753 201.05790861125638\n",
      "  1041      5 -0.00018291848 ...    8.0 3655.5757208773143 201.05790861125638\n",
      "  1041      6  -0.0001833752 ...    8.0 480.96339716729614 201.05790861125638\n",
      "  1041      7 -0.00027163676 ...    8.0   875.115138434995 201.05790861125638\n",
      "  1041      8 -0.00044347747 ...    8.0  5037.812386432799 201.05790861125638\n",
      "       lon                 lat        \n",
      "------------------ -------------------\n",
      " 287.7083136269913 -1.2568552176667185\n",
      " 287.7232978217963  -1.257305109534876\n",
      "   287.71309444314 -1.2590829874526888\n",
      " 287.7296684105711 -1.2609473408491092\n",
      "287.72196432610644 -1.2679841732900865\n",
      "287.73479156297816 -1.2688663458293594\n",
      "287.73485286897323  -1.269634008464969\n",
      " 287.7426222373706  -1.274597205694366\n",
      "287.74979275962795 -1.2755353436966936\n"
     ]
    }
   ],
   "source": [
    "print(stats.mode(t['island']))\n",
    "largest = t[t['island'] == stats.mode(t['island'])[0]]\n",
    "print(largest)\n",
    "print(largest['lon','lat'])\n",
    "largest.write(r'C:\\Users\\clent\\Documents\\4th Year Project Code\\MeerKAT Catalogs\\G288.5-0.5_largest.vot', overwrite=True, format='votable')"
   ]
  },
  {
   "cell_type": "code",
   "execution_count": 14,
   "id": "7b4f4ba8",
   "metadata": {
    "scrolled": true
   },
   "outputs": [
    {
     "name": "stdout",
     "output_type": "stream",
     "text": [
      "        a                  b         \n",
      "------------------ ------------------\n",
      "11.866184729224946   8.30415939804915\n",
      "15.817746354351094 14.845043429876032\n",
      "26.405635760117526  17.34180477143439\n",
      "35.984143881625705 14.907509811427326\n",
      " 64.11355622559577 19.497405551594152\n",
      "55.319970265173325 21.034101899748023\n",
      "19.021383856138325  8.048594432916953\n",
      "19.034107111351705 14.634665996327563\n",
      " 40.38626799273902 39.706206268651044\n"
     ]
    }
   ],
   "source": [
    "print(largest['a','b'])"
   ]
  },
  {
   "cell_type": "markdown",
   "id": "a92f2a26",
   "metadata": {},
   "source": [
    "## To find all of the 'interesting' sources, first remove every island that only has 1 source, then 'flatten' the remaining so they are only represented by a single point in the vo table"
   ]
  }
 ],
 "metadata": {
  "kernelspec": {
   "display_name": "Python 3 (ipykernel)",
   "language": "python",
   "name": "python3"
  },
  "language_info": {
   "codemirror_mode": {
    "name": "ipython",
    "version": 3
   },
   "file_extension": ".py",
   "mimetype": "text/x-python",
   "name": "python",
   "nbconvert_exporter": "python",
   "pygments_lexer": "ipython3",
   "version": "3.7.11"
  }
 },
 "nbformat": 4,
 "nbformat_minor": 5
}
