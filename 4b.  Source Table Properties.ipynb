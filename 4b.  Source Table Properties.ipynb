{
 "cells": [
  {
   "cell_type": "code",
   "execution_count": 1,
   "id": "caf9f744",
   "metadata": {},
   "outputs": [],
   "source": [
    "import numpy as np\n",
    "from scipy import stats\n",
    "import astropy\n",
    "from astropy.table import Table\n",
    "from astropy.nddata import CCDData\n",
    "from astropy.nddata.utils import Cutout2D\n",
    "from astropy import units as u\n",
    "from astropy import wcs\n",
    "import ccdproc\n",
    "from ccdproc import trim_image\n",
    "import PIL\n",
    "import matplotlib.pyplot as plt\n",
    "import matplotlib.colors as colors\n",
    "import glob\n",
    "import os"
   ]
  },
  {
   "cell_type": "markdown",
   "id": "6df082b8",
   "metadata": {},
   "source": [
    "# Examining the Properties of the Aegean Source Tables"
   ]
  },
  {
   "cell_type": "markdown",
   "id": "190af6d7",
   "metadata": {},
   "source": [
    "#### To more effectively understand the properties of the source tables, especially in terms of the overall distribution of multi-source islands (MSIs) and the relative number of sources within MSIs, it was deemed appropriate to undergo the following analysis"
   ]
  },
  {
   "cell_type": "code",
   "execution_count": 2,
   "id": "24884eb3",
   "metadata": {},
   "outputs": [],
   "source": [
    "file_location = os.path.join(r'C:\\Users\\clent\\Documents\\4th Year Project Code\\MEERKAT CATALOGS FULL', '*.vot')\n",
    "filenames = glob.glob(file_location)\n",
    "allvots = []\n",
    "for i in filenames:\n",
    "    allvots.append(Table.read(i))"
   ]
  },
  {
   "cell_type": "code",
   "execution_count": 3,
   "id": "95cd1ef3",
   "metadata": {},
   "outputs": [
    {
     "name": "stdout",
     "output_type": "stream",
     "text": [
      "G002.5+0.0IFx_Mosaic_Mom0_comp\n",
      "G005.5+0.0IFx_Mosaic_Mom0_comp\n",
      "G008.5+0.0IFx_Mosaic_Mom0_comp\n",
      "G011.5+0.0IFx_Mosaic_Mom0_comp\n",
      "G014.5+0.0IFx_Mosaic_Mom0_comp\n",
      "G017.5+0.0IFx_Mosaic_Mom0_comp\n",
      "G020.5+0.0IFx_Mosaic_Mom0_comp\n",
      "G023.5+0.0IFx_Mosaic_Mom0_comp\n",
      "G026.5+0.0IFx_Mosaic_Mom0_comp\n",
      "G029.5+0.0IFx_Mosaic_Mom0_comp\n",
      "G032.5+0.0IFx_Mosaic_Mom0_comp\n",
      "G035.5+0.0IFx_Mosaic_Mom0_comp\n",
      "G038.5+0.0IFx_Mosaic_Mom0_comp\n",
      "G041.5+0.0IFx_Mosaic_Mom0_comp\n",
      "G044.5+0.0IFx_Mosaic_Mom0_comp\n",
      "G047.5+0.0IFx_Mosaic_Mom0_comp\n",
      "G050.5+0.0IFx_Mosaic_Mom0_comp\n",
      "G053.5+0.0IFx_Mosaic_Mom0_comp\n",
      "G056.5+0.0IFx_Mosaic_Mom0_comp\n",
      "G059.5+0.0IFx_Mosaic_Mom0_comp\n",
      "G249.5-0.5IFx_Mosaic_Mom0_comp\n",
      "G252.5-0.5IFx_Mosaic_Mom0_comp\n",
      "G255.5-0.5IFx_Mosaic_Mom0_comp\n",
      "G258.5-0.5IFx_Mosaic_Mom0_comp\n",
      "G261.5-0.5IFx_Mosaic_Mom0_comp\n",
      "G264.5-0.5IFx_Mosaic_Mom0_comp\n",
      "G267.5-0.5IFx_Mosaic_Mom0_comp\n",
      "G273.5-0.5IFx_Mosaic_Mom0_comp\n",
      "G276.5-0.5IFx_Mosaic_Mom0_comp\n",
      "G279.5-0.5IFx_Mosaic_Mom0_comp\n",
      "G282.5-0.5IFx_Mosaic_Mom0_comp\n",
      "G285.5-0.5IFx_Mosaic_Mom0_comp\n",
      "G288.5-0.5IFx_Mosaic_Mom0_comp\n",
      "G291.5-0.5IFx_Mosaic_Mom0_comp\n",
      "G294.5-0.5IFx_Mosaic_Mom0_comp\n",
      "G297.5-0.5IFx_Mosaic_Mom0_comp\n",
      "G300.5+000IFx_Mosaic_Mom0_comp\n",
      "G300.5-0.5IFx_Mosaic_Mom0_comp\n",
      "G303.5+000IFx_Mosaic_Mom0_comp\n",
      "G306.5+000IFx_Mosaic_Mom0_comp\n",
      "G309.5+000IFx_Mosaic_Mom0_comp\n",
      "G312.5+000IFx_Mosaic_Mom0_comp\n",
      "G315.5+000IFx_Mosaic_Mom0_comp\n",
      "G318.5+000IFx_Mosaic_Mom0_comp\n",
      "G321.5+000IFx_Mosaic_Mom0_comp\n",
      "G321.5+000I_Mosaic_Mom0_comp\n",
      "G324.5+000I_Mosaic_Mom0_comp\n",
      "G327.5+000I_Mosaic_Mom0_comp\n",
      "G330.5+000I_Mosaic_Mom0_comp\n",
      "G333.5+000I_Mosaic_Mom0_comp\n",
      "G336.5+000I_Mosaic_Mom0_comp\n",
      "G339.5+000I_Mosaic_Mom0_comp\n",
      "G342.5+000I_Mosaic_Mom0_comp\n",
      "G345.5+000I_Mosaic_Mom0_comp\n",
      "G348.5+000I_Mosaic_Mom0_comp\n",
      "G351.5+000I_Mosaic_Mom0_comp\n",
      "G354.5+000I_Mosaic_Mom0_comp\n",
      "G357.5+000I_Mosaic_Mom0_comp\n"
     ]
    }
   ],
   "source": [
    "count = np.arange(len(allvots))\n",
    "for i in count:    \n",
    "    print(filenames[i].split('\\\\')[-1][:-4])"
   ]
  },
  {
   "cell_type": "code",
   "execution_count": 4,
   "id": "f9953b81",
   "metadata": {},
   "outputs": [],
   "source": [
    "# print(allvots[0])\n",
    "# print(allvots[1])\n",
    "\n",
    "allvots_mult = []\n",
    "count = np.arange(len(allvots))\n",
    "for i in count:\n",
    "    newT_single = astropy.table.unique(allvots[i], keys='island', keep='none')\n",
    "    newT_combined = astropy.table.vstack(([allvots[i], newT_single]))\n",
    "    newT_mult = astropy.table.unique(newT_combined, keep='none', silent=True)\n",
    "    allvots_mult.append(newT_mult)"
   ]
  },
  {
   "cell_type": "code",
   "execution_count": 5,
   "id": "12cd5ea5",
   "metadata": {},
   "outputs": [
    {
     "name": "stderr",
     "output_type": "stream",
     "text": [
      "WARNING: Cannot aggregate column 'lon_str' with type '<U11' [astropy.table.groups]\n",
      "WARNING: Cannot aggregate column 'lat_str' with type '<U12' [astropy.table.groups]\n",
      "WARNING: Cannot aggregate column 'uuid' with type '<U36' [astropy.table.groups]\n",
      "C:\\Users\\clent\\Anaconda3\\envs\\tensorflow_env\\lib\\site-packages\\astropy\\table\\groups.py:258: UserWarning: Warning: converting a masked element to nan.\n",
      "  vals = np.array([func(par_col[i0: i1]) for i0, i1 in zip(i0s, i1s)])\n"
     ]
    }
   ],
   "source": [
    "allvots_final = []\n",
    "for i in count:\n",
    "    newT_grouped = allvots_mult[i].group_by('island')\n",
    "    finalT = newT_grouped.groups.aggregate(np.mean)\n",
    "    allvots_final.append(finalT)"
   ]
  },
  {
   "cell_type": "code",
   "execution_count": 6,
   "id": "44a49e4a",
   "metadata": {},
   "outputs": [
    {
     "name": "stdout",
     "output_type": "stream",
     "text": [
      "island        lon                 lat        \n",
      "------ ------------------ -------------------\n",
      "    18 3.5675960278050955 -1.5310183847924645\n",
      "    28 3.1940378574336203 -1.5141307930373298\n",
      "    35 2.7601788885529066 -1.4998802897603078\n",
      "    48 2.3324519374024573 -1.4748348986442494\n",
      "    57  2.480222135102502 -1.4735301912038097\n",
      "    58 2.2503284022303953  -1.472111896404913\n",
      "    59 2.7922194015915167 -1.4671410399044449\n",
      "    69 2.5267363792560493 -1.4514617007894017\n",
      "    88 3.8999195465726055 -1.4222916373064556\n",
      "   175  2.149650881316166 -1.3387105014587592\n",
      "   ...                ...                 ...\n",
      "  4337  4.007059672048804  1.4031091788688355\n",
      "  4355 2.2746404022101516   1.414503627031174\n",
      "  4373 3.5680578846447326  1.4327508491663028\n",
      "  4398  3.770537772802482   1.452792637973484\n",
      "  4402 2.8532822640452977  1.4529705282928318\n",
      "  4415 3.8876429558641776  1.4706250769314626\n",
      "  4422  3.773572100821274  1.4757951152362896\n",
      "  4425  2.948018151220915  1.4829940002565583\n",
      "  4449 3.2671769827953376   1.506173458937751\n",
      "  4453   3.05233566074503  1.5131918444668995\n",
      "  4470 3.0444149615156704  1.5287342330785458\n",
      "Length = 229 rows\n"
     ]
    }
   ],
   "source": [
    "allvots_compact = []\n",
    "for i in count:\n",
    "    compactT = Table([allvots_final[i]['island'], allvots_final[i]['lon'], allvots_final[i]['lat']])\n",
    "    allvots_compact.append(compactT)\n",
    "\n",
    "print(allvots_compact[0])"
   ]
  },
  {
   "cell_type": "code",
   "execution_count": 7,
   "id": "4d5a5e97",
   "metadata": {},
   "outputs": [],
   "source": [
    "frame_lons = []\n",
    "for i in count:\n",
    "    frame_lons.append(np.mean(allvots_compact[i]['lon']))\n",
    "    \n",
    "frame_lons = np.array(frame_lons)\n",
    "\n",
    "frame_lengths = []\n",
    "for i in count:\n",
    "    frame_lengths.append(len(allvots_compact[i]))\n",
    "    \n",
    "frame_lengths = np.array(frame_lengths)"
   ]
  },
  {
   "cell_type": "code",
   "execution_count": 13,
   "id": "895c5489",
   "metadata": {},
   "outputs": [
    {
     "data": {
      "image/png": "[encoded data removed]",
      "text/plain": [
       "<Figure size 576x360 with 1 Axes>"
      ]
     },
     "metadata": {
      "needs_background": "light"
     },
     "output_type": "display_data"
    }
   ],
   "source": [
    "f=15\n",
    "\n",
    "plt.figure(figsize=(8,5))\n",
    "plt.scatter(np.sin((np.pi/180)*frame_lons), frame_lengths)\n",
    "plt.title('MSI Distribution Across MeerKAT Survey', fontsize=f)\n",
    "plt.xlabel('$\\sin(\\overline{l})$', fontsize=f)\n",
    "plt.ylabel('No. of MSIs per frame', fontsize=f)\n",
    "plt.xticks(fontsize = f)\n",
    "plt.yticks(fontsize = f)\n",
    "plt.gca().invert_xaxis()"
   ]
  },
  {
   "cell_type": "code",
   "execution_count": 9,
   "id": "e86000fc",
   "metadata": {},
   "outputs": [],
   "source": [
    "#number of sources vs gal lon to compare with the above reduced table\n",
    "\n",
    "allLons = []\n",
    "for i in count:\n",
    "    allLons.append(np.mean(allvots[i]['lon']))\n",
    "    \n",
    "allLons = np.array(allLons)\n",
    "    \n",
    "allLengths = []\n",
    "for i in count:\n",
    "    allLengths.append(len(allvots[i]))\n",
    "    \n",
    "allLengths = np.array(allLengths)"
   ]
  },
  {
   "cell_type": "code",
   "execution_count": 14,
   "id": "f5ace7d6",
   "metadata": {},
   "outputs": [
    {
     "data": {
      "image/png": "[encoded data removed]",
      "text/plain": [
       "<Figure size 576x360 with 1 Axes>"
      ]
     },
     "metadata": {
      "needs_background": "light"
     },
     "output_type": "display_data"
    }
   ],
   "source": [
    "plt.figure(figsize=(8,5))\n",
    "plt.scatter(np.sin((np.pi/180)*allLons), allLengths)\n",
    "plt.title('Source Distribution Across MeerKAT Survey', fontsize=f)\n",
    "plt.xlabel('$\\sin(\\overline{l})$', fontsize=f)\n",
    "plt.ylabel('No. of sources per frame', fontsize=f)\n",
    "plt.xticks(fontsize = f)\n",
    "plt.yticks(fontsize = f)\n",
    "plt.gca().invert_xaxis()"
   ]
  },
  {
   "cell_type": "markdown",
   "id": "cd38cf12",
   "metadata": {},
   "source": [
    "### Seems to be a minimum at the galactic centre "
   ]
  }
 ],
 "metadata": {
  "kernelspec": {
   "display_name": "Python 3 (ipykernel)",
   "language": "python",
   "name": "python3"
  },
  "language_info": {
   "codemirror_mode": {
    "name": "ipython",
    "version": 3
   },
   "file_extension": ".py",
   "mimetype": "text/x-python",
   "name": "python",
   "nbconvert_exporter": "python",
   "pygments_lexer": "ipython3",
   "version": "3.7.11"
  }
 },
 "nbformat": 4,
 "nbformat_minor": 5
}
