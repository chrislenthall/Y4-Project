{
 "cells": [
  {
   "cell_type": "code",
   "execution_count": 1,
   "id": "cc4561d6",
   "metadata": {},
   "outputs": [],
   "source": [
    "import numpy as np\n",
    "from scipy import stats\n",
    "from scipy import ndimage\n",
    "import astropy\n",
    "from astropy.table import Table\n",
    "from astropy.nddata import CCDData\n",
    "from astropy.nddata.utils import Cutout2D\n",
    "from astropy import units as u\n",
    "from astropy import wcs\n",
    "import ccdproc\n",
    "from ccdproc import trim_image\n",
    "import PIL\n",
    "import matplotlib.pyplot as plt\n",
    "import matplotlib.colors as colors"
   ]
  },
  {
   "cell_type": "markdown",
   "id": "8589e026",
   "metadata": {},
   "source": [
    "## To create a full training set, we need to read in the full MSI source catalogue, and then create cutouts around each coordinate"
   ]
  },
  {
   "cell_type": "code",
   "execution_count": 2,
   "id": "e765161d",
   "metadata": {},
   "outputs": [
    {
     "name": "stdout",
     "output_type": "stream",
     "text": [
      "['Frame_name', 'Cat_ID', 'lon', 'lat']\n"
     ]
    }
   ],
   "source": [
    "catalog = Table.read(r'C:\\Users\\clent\\Documents\\4th Year Project Code\\overall_MSI_source_table.vot')\n",
    "print(catalog.colnames)"
   ]
  },
  {
   "cell_type": "code",
   "execution_count": 3,
   "id": "ebbffdab",
   "metadata": {},
   "outputs": [],
   "source": [
    "#creating zipped lists of coordinates to feed into cutout process\n",
    "coords = list(zip(np.array(catalog['lon']), np.array(catalog['lat'])))"
   ]
  },
  {
   "cell_type": "code",
   "execution_count": 4,
   "id": "28e70064",
   "metadata": {
    "scrolled": true
   },
   "outputs": [
    {
     "name": "stdout",
     "output_type": "stream",
     "text": [
      "  Frame_name    Cat_ID          lon                 lat         \n",
      "------------- ---------- ------------------ --------------------\n",
      "G002.5+0.0IFx   MeerACS1  1.315452074188857   0.3883327858272292\n",
      "G002.5+0.0IFx   MeerACS2 1.3282130307094773  0.15171515388251258\n",
      "G002.5+0.0IFx   MeerACS3  1.331387557662496  0.08540959557617867\n",
      "G002.5+0.0IFx   MeerACS4 1.3918056434096595  0.07994350294988505\n",
      "G002.5+0.0IFx   MeerACS5 1.4025373781955321   0.6842554048985261\n",
      "G002.5+0.0IFx   MeerACS6  1.412827078039409 -0.29274504922448485\n",
      "G002.5+0.0IFx   MeerACS7 1.4519364732167512  -0.7849233480296052\n",
      "G002.5+0.0IFx   MeerACS8 1.4621132532105157  0.23339107396579956\n",
      "G002.5+0.0IFx   MeerACS9 1.5001846531693346   0.5021795128875668\n",
      "G002.5+0.0IFx  MeerACS10 1.5063662881393067  0.08719897427540121\n",
      "          ...        ...                ...                  ...\n",
      "G002.5+0.0IFx MeerACS223 3.9518177027391994 0.008039881349612053\n",
      "G002.5+0.0IFx MeerACS225 3.9623662385416005  0.21664589488314287\n",
      "G002.5+0.0IFx MeerACS228  3.982676111382002  0.10409119049221305\n",
      "G002.5+0.0IFx MeerACS230  4.000725364588941  -0.5722304978096024\n",
      "G002.5+0.0IFx MeerACS233 4.0026687640310294  -0.5832718667013116\n",
      "G002.5+0.0IFx MeerACS234  4.006714109642674  0.06351901565419614\n",
      "G002.5+0.0IFx MeerACS236  4.007059672048804   1.4031091788688355\n",
      "G002.5+0.0IFx MeerACS238  4.013191206146416 -0.29202842068237667\n",
      "G002.5+0.0IFx MeerACS240  4.019244959579466  -0.5736214857057664\n",
      "G002.5+0.0IFx MeerACS241  4.028963421647374  -0.4514184211613527\n",
      "G002.5+0.0IFx MeerACS243  4.054573397215997  0.39952553570894167\n",
      "Length = 229 rows\n"
     ]
    }
   ],
   "source": [
    "catalog_by_frame = catalog.group_by('Frame_name')\n",
    "print(catalog_by_frame.groups[0])"
   ]
  },
  {
   "cell_type": "code",
   "execution_count": 5,
   "id": "ca5ebdc0",
   "metadata": {},
   "outputs": [
    {
     "name": "stdout",
     "output_type": "stream",
     "text": [
      "  Frame_name \n",
      "-------------\n",
      "G288.5-0.5IFx\n",
      " Frame_name\n",
      "-----------\n",
      "G357.5+000I\n"
     ]
    }
   ],
   "source": [
    "print(catalog_by_frame.groups.keys[32])\n",
    "print(str(catalog_by_frame.groups.keys[57]))"
   ]
  },
  {
   "cell_type": "code",
   "execution_count": 6,
   "id": "646e581e",
   "metadata": {},
   "outputs": [
    {
     "name": "stdout",
     "output_type": "stream",
     "text": [
      "INFO: using the unit Jy passed to the FITS reader instead of the unit JY/BEAM in the FITS file. [astropy.nddata.ccddata]\n"
     ]
    },
    {
     "name": "stderr",
     "output_type": "stream",
     "text": [
      "WARNING: FITSFixedWarning: 'datfix' made the change 'Set MJD-OBS to 58356.000000 from DATE-OBS'. [astropy.wcs.wcs]\n"
     ]
    }
   ],
   "source": [
    "frame = CCDData.read(r'C:\\Users\\clent\\Documents\\4th Year Project Code\\MeerKAT FITS\\G288.5-0.5IFx_Mosaic_Mom0.fits', unit='Jy')"
   ]
  },
  {
   "cell_type": "code",
   "execution_count": 7,
   "id": "36c5ee44",
   "metadata": {},
   "outputs": [
    {
     "name": "stdout",
     "output_type": "stream",
     "text": [
      "223\n"
     ]
    }
   ],
   "source": [
    "longitudes = np.array(catalog_by_frame.groups[32]['lon'])\n",
    "latitudes = np.array(catalog_by_frame.groups[32]['lat'])\n",
    "\n",
    "coords = list(zip(longitudes, latitudes))\n",
    "\n",
    "hdulist = frame.to_hdu()\n",
    "w = wcs.WCS(hdulist[0].header)\n",
    "matrix_coords = w.wcs_world2pix(coords, 1)\n",
    "\n",
    "print(len(coords))"
   ]
  },
  {
   "cell_type": "code",
   "execution_count": 14,
   "id": "6d094f45",
   "metadata": {},
   "outputs": [
    {
     "data": {
      "text/plain": [
       "(-0.5, 63.5, -0.5, 63.5)"
      ]
     },
     "execution_count": 14,
     "metadata": {},
     "output_type": "execute_result"
    },
    {
     "data": {
      "image/png": "[encoded data removed]",
      "text/plain": [
       "<Figure size 432x288 with 1 Axes>"
      ]
     },
     "metadata": {
      "needs_background": "light"
     },
     "output_type": "display_data"
    }
   ],
   "source": [
    "#test method\n",
    "\n",
    "j=28\n",
    "test_cutout = (Cutout2D(frame, matrix_coords[j], size=64))\n",
    "test_norm_i = np.linalg.norm(test_cutout.data)\n",
    "test_cutout.data = (test_cutout.data/test_norm_i) + 1\n",
    "plt.imshow(test_cutout.data, cmap='gist_heat', origin='lower', norm=colors.LogNorm())\n",
    "plt.axis('off')\n",
    "# plt.savefig(r'C:\\Users\\clent\\Documents\\4th Year Project Code\\Final Cutouts\\G264.5-0.5IFx\\\\' + str(catalog_by_frame.groups[24]['Cat_ID'][j]) + '.png', format='png')"
   ]
  },
  {
   "cell_type": "markdown",
   "id": "07ab5bdf",
   "metadata": {},
   "source": [
    "## Looping through a whole frame:"
   ]
  },
  {
   "cell_type": "code",
   "execution_count": 32,
   "id": "012053e5",
   "metadata": {},
   "outputs": [
    {
     "data": {
      "image/png": "[encoded data removed]",
      "text/plain": [
       "<Figure size 432x288 with 1 Axes>"
      ]
     },
     "metadata": {
      "needs_background": "light"
     },
     "output_type": "display_data"
    }
   ],
   "source": [
    "count = np.arange(len(matrix_coords))\n",
    "for i in count:\n",
    "    cutout = (Cutout2D(frame, matrix_coords[i], size=64))\n",
    "    norm_i = np.linalg.norm(cutout.data)\n",
    "    cutout.data = (cutout.data/norm_i) + 1\n",
    "    plt.imshow(cutout.data, cmap='gist_heat', origin='lower', norm=colors.LogNorm())\n",
    "    plt.axis('off')\n",
    "    plt.savefig(r'C:\\Users\\clent\\Documents\\4th Year Project Code\\Final Cutouts\\G288.5-0.5IFx\\\\' + str(catalog_by_frame.groups[32]['Cat_ID'][i]) + '.png', format='png')"
   ]
  }
 ],
 "metadata": {
  "kernelspec": {
   "display_name": "Python 3 (ipykernel)",
   "language": "python",
   "name": "python3"
  },
  "language_info": {
   "codemirror_mode": {
    "name": "ipython",
    "version": 3
   },
   "file_extension": ".py",
   "mimetype": "text/x-python",
   "name": "python",
   "nbconvert_exporter": "python",
   "pygments_lexer": "ipython3",
   "version": "3.7.11"
  }
 },
 "nbformat": 4,
 "nbformat_minor": 5
}
