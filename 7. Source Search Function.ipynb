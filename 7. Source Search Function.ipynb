{
 "cells": [
  {
   "cell_type": "code",
   "execution_count": 1,
   "id": "5fe4718c",
   "metadata": {},
   "outputs": [],
   "source": [
    "import numpy as np\n",
    "import astropy\n",
    "from astropy.table import Table\n",
    "from astropy import units as u\n",
    "from astropy import wcs\n",
    "from astropy.coordinates import SkyCoord"
   ]
  },
  {
   "cell_type": "markdown",
   "id": "0203bee8",
   "metadata": {},
   "source": [
    "## A simple function to return the coordinates of a particular source when given the ID"
   ]
  },
  {
   "cell_type": "code",
   "execution_count": 2,
   "id": "d52d0fea",
   "metadata": {},
   "outputs": [],
   "source": [
    "catalog = Table.read(r'C:\\Users\\clent\\Documents\\4th Year Project Code\\overall_MSI_source_table.vot')"
   ]
  },
  {
   "cell_type": "code",
   "execution_count": 3,
   "id": "5bb09404",
   "metadata": {},
   "outputs": [],
   "source": [
    "def find(ID):\n",
    "    return catalog[catalog['Cat_ID'] == ID]"
   ]
  },
  {
   "cell_type": "code",
   "execution_count": 16,
   "id": "f026b789",
   "metadata": {},
   "outputs": [
    {
     "name": "stdout",
     "output_type": "stream",
     "text": [
      "  Frame_name     Cat_ID          lon                lat        \n",
      "------------- ----------- ----------------- -------------------\n",
      "G032.5+0.0IFx MeerACS2365 32.91394322977584 0.20876095827976146\n"
     ]
    }
   ],
   "source": [
    "cat_ID = 'MeerACS2365'\n",
    "print(find(cat_ID))"
   ]
  },
  {
   "cell_type": "markdown",
   "id": "1a7a099f",
   "metadata": {},
   "source": [
    "### Converting galactic to fk5:"
   ]
  },
  {
   "cell_type": "code",
   "execution_count": 17,
   "id": "6ae31887",
   "metadata": {
    "scrolled": true
   },
   "outputs": [
    {
     "name": "stdout",
     "output_type": "stream",
     "text": [
      "<SkyCoord (FK5: equinox=J2000.000): (ra, dec) in deg\n",
      "    [(282.66548989, 0.0791937)]>\n"
     ]
    }
   ],
   "source": [
    "gc = SkyCoord(l=find(cat_ID)['lon']*u.degree, b=find(cat_ID)['lat']*u.degree, frame='galactic')\n",
    "print(gc.fk5)"
   ]
  }
 ],
 "metadata": {
  "kernelspec": {
   "display_name": "Python 3 (ipykernel)",
   "language": "python",
   "name": "python3"
  },
  "language_info": {
   "codemirror_mode": {
    "name": "ipython",
    "version": 3
   },
   "file_extension": ".py",
   "mimetype": "text/x-python",
   "name": "python",
   "nbconvert_exporter": "python",
   "pygments_lexer": "ipython3",
   "version": "3.7.11"
  }
 },
 "nbformat": 4,
 "nbformat_minor": 5
}
