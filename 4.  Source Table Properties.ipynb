{
 "cells": [
  {
   "cell_type": "code",
   "execution_count": 1,
   "id": "caf9f744",
   "metadata": {},
   "outputs": [],
   "source": [
    "import numpy as np\n",
    "from scipy import stats\n",
    "import astropy\n",
    "from astropy.table import Table\n",
    "from astropy.nddata import CCDData\n",
    "from astropy.nddata.utils import Cutout2D\n",
    "from astropy import units as u\n",
    "from astropy import wcs\n",
    "import ccdproc\n",
    "from ccdproc import trim_image\n",
    "import PIL\n",
    "import matplotlib.pyplot as plt\n",
    "import matplotlib.colors as colors\n",
    "import glob\n",
    "import os"
   ]
  },
  {
   "cell_type": "markdown",
   "id": "6df082b8",
   "metadata": {},
   "source": [
    "# Examining the Properties of the Aegean Source Tables"
   ]
  },
  {
   "cell_type": "markdown",
   "id": "190af6d7",
   "metadata": {},
   "source": [
    "#### To more effectively understand the properties of the source tables, especially in terms of the relative distribution of multi-source islands (MSIs), it was deemed appropriate to undergo the following analysis"
   ]
  },
  {
   "cell_type": "code",
   "execution_count": 2,
   "id": "24884eb3",
   "metadata": {},
   "outputs": [],
   "source": [
    "file_location = os.path.join(r'C:\\Users\\clent\\Documents\\4th Year Project Code\\MEERKAT CATALOGS FULL', '*.vot')\n",
    "filenames = glob.glob(file_location)\n",
    "allvots = []\n",
    "for i in filenames:\n",
    "    allvots.append(Table.read(i))"
   ]
  },
  {
   "cell_type": "code",
   "execution_count": 4,
   "id": "f9953b81",
   "metadata": {},
   "outputs": [
    {
     "name": "stdout",
     "output_type": "stream",
     "text": [
      "island source   background     local_rms    ...  psf_a   psf_b  psf_pa\n",
      "------ ------ -------------- -------------- ... ------- ------- ------\n",
      "     1      0 0.000109308785   7.858651e-05 ... 7.99992 7.99992    8.0\n",
      "     2      0   0.0001396462  8.7127526e-05 ... 7.99992 7.99992    8.0\n",
      "     3      0 0.000108112494  9.3464965e-05 ... 7.99992 7.99992    8.0\n",
      "     4      0 -5.8640406e-05   7.130701e-05 ... 7.99992 7.99992    8.0\n",
      "     5      0  0.00011154896   7.355292e-05 ... 7.99992 7.99992    8.0\n",
      "     6      0   6.748742e-05    7.56419e-05 ... 7.99992 7.99992    8.0\n",
      "     7      0 -0.00050728547   9.738044e-05 ... 7.99992 7.99992    8.0\n",
      "     8      0   7.230854e-05 0.000119968936 ... 7.99992 7.99992    8.0\n",
      "     9      0  0.00016186597   8.279841e-05 ... 7.99992 7.99992    8.0\n",
      "    10      0  2.9010824e-05  8.2874816e-05 ... 7.99992 7.99992    8.0\n",
      "   ...    ...            ...            ... ...     ...     ...    ...\n",
      "  4485      0  0.00017959267  0.00010836308 ... 7.99992 7.99992    8.0\n",
      "  4486      0   4.944826e-05   7.263377e-05 ... 7.99992 7.99992    8.0\n",
      "  4487      0  5.9935493e-05  7.1680966e-05 ... 7.99992 7.99992    8.0\n",
      "  4488      0   0.0002687069  9.7819364e-05 ... 7.99992 7.99992    8.0\n",
      "  4489      0   5.666953e-06   7.467316e-05 ... 7.99992 7.99992    8.0\n",
      "  4490      0  0.00010859224  8.9800844e-05 ... 7.99992 7.99992    8.0\n",
      "  4491      0  0.00014086088    7.33417e-05 ... 7.99992 7.99992    8.0\n",
      "  4492      0  0.00019081692   7.395186e-05 ... 7.99992 7.99992    8.0\n",
      "  4493      0  -0.0001246802  6.8269735e-05 ... 7.99992 7.99992    8.0\n",
      "  4494      0   8.231877e-05  7.6607095e-05 ... 7.99992 7.99992    8.0\n",
      "  4495      0 -1.5581729e-05   7.331035e-05 ... 7.99992 7.99992    8.0\n",
      "Length = 4820 rows\n"
     ]
    }
   ],
   "source": [
    "print(allvots[0])\n",
    "\n",
    "# allvots_mult = []\n",
    "# for i in allvots:\n",
    "#     newT_single = astropy.table.unique(allvots[i], keys='island', keep='none')\n",
    "#     newT_combined = astropy.table.vstack(([allvots[i], newT_single]))\n",
    "#     newT_mult = astropy.table.unique(newT_combined, keep='none', silent=True)\n",
    "#     allvots_mult.append(newT_mult)"
   ]
  },
  {
   "cell_type": "code",
   "execution_count": 5,
   "id": "12cd5ea5",
   "metadata": {},
   "outputs": [],
   "source": [
    "newT_single = astropy.table.unique(allvots[0], keys='island', keep='none')"
   ]
  },
  {
   "cell_type": "markdown",
   "id": "47da4697",
   "metadata": {},
   "source": [
    "### This notebook is incomplete, further analysis and debugging will be conducted shortly"
   ]
  }
 ],
 "metadata": {
  "kernelspec": {
   "display_name": "Python 3 (ipykernel)",
   "language": "python",
   "name": "python3"
  },
  "language_info": {
   "codemirror_mode": {
    "name": "ipython",
    "version": 3
   },
   "file_extension": ".py",
   "mimetype": "text/x-python",
   "name": "python",
   "nbconvert_exporter": "python",
   "pygments_lexer": "ipython3",
   "version": "3.7.11"
  }
 },
 "nbformat": 4,
 "nbformat_minor": 5
}
